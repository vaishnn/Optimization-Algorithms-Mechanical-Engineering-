{
 "cells": [
  {
   "cell_type": "markdown",
   "id": "836688b0-8244-4638-ae3e-c1d4f73e2faa",
   "metadata": {},
   "source": [
    "# Fibonacci Search Method\n",
    "Fibonacci series  \n",
    "  $𝐹(𝑛)=𝐹(𝑛−1)+𝐹(𝑛−2) $\n",
    "#### Step 1 \n",
    "Choose a lower bound a and an upper bound b.\n",
    "Set $𝐿=𝑏−𝑎$. Assume the desired number of function evaluations to be 𝑛.\n",
    "Set $𝑘=2$\n",
    "#### Step 2 \n",
    "Compute $ 𝐿_𝑘^∗=(𝐹(𝑛−𝑘+1)/𝐹(𝑛+1) )𝐿 ~$. Set $ 𝑥_1=𝑎+𝐿_𝑘^∗, 𝑥_2=𝑏−𝐿_𝑘^∗ $\n",
    "#### Step 3  \n",
    "Compute one of $f(x_1)$ and $𝑓(𝑥_2)$, which was not evaluated earlier. Use the fundamental region elimination rule.  Set new a and b\n",
    "#### Step 4 \n",
    "is $𝑘=𝑛?$ if no , set $𝑘=𝑘+1$ and go to step 2, else Terminate\n"
   ]
  },
  {
   "cell_type": "code",
   "execution_count": 1,
   "id": "3424e0e4-dbe5-4087-bb6c-af33a0945804",
   "metadata": {},
   "outputs": [],
   "source": [
    "import math\n",
    "def func(x):\n",
    "    # Function to be Inputed by the user, Taking an example for demonstration\n",
    "    return 0.65-0.75/(1+x*x)-0.65*x*math.atan(1/x);"
   ]
  },
  {
   "cell_type": "markdown",
   "id": "8ae948e2-c668-4226-9cd0-41ef6b00d5d8",
   "metadata": {},
   "source": [
    "The Function is: \n",
    "$ 0.65-0.75/(1+x^2)-0.65xtan^-1(1/x) $"
   ]
  },
  {
   "cell_type": "code",
   "execution_count": 2,
   "id": "d0afc2ea-1203-4dc7-8271-e8aa73ec634b",
   "metadata": {},
   "outputs": [],
   "source": [
    "# To get the Value of Fabonacci Series\n",
    "def fab(num):\n",
    "    x_0 = 1\n",
    "    x_1 = 1\n",
    "    k = num\n",
    "    # x_app is for apparent variable which will keep on changing\n",
    "    x_app = x_1\n",
    "    # Returning variable\n",
    "    sum = x_0 + x_1\n",
    "    if (num == 0 and num ==1):\n",
    "        return 1\n",
    "    while k-2:\n",
    "        x_app_d = sum\n",
    "        sum = sum + x_app\n",
    "        x_app = x_app_d\n",
    "        k = k-1\n",
    "    return sum\n",
    "        \n",
    "            "
   ]
  },
  {
   "cell_type": "code",
   "execution_count": 3,
   "id": "e143f5f0-4df1-4319-8580-b9641cab55a2",
   "metadata": {},
   "outputs": [],
   "source": [
    "def calc(a,b,N,func,k=2):\n",
    "    while True:\n",
    "        L = b-a\n",
    "        L_k = fab(N-k+1)/fab(N+1)*L\n",
    "        x_1 = a+L_k\n",
    "        x_2 = b-L_k\n",
    "        k = k + 1\n",
    "        try:\n",
    "            f_x1 = func(x_1)\n",
    "            f_x2 = func(x_2)\n",
    "        except:\n",
    "            print('Function is not defined in this range')\n",
    "            return 'Error'\n",
    "        if f_x1 > f_x2:\n",
    "            a = x_1\n",
    "        else:\n",
    "            b = x_2\n",
    "        if k == N:\n",
    "            return [x_1, x_2]"
   ]
  },
  {
   "cell_type": "code",
   "execution_count": 4,
   "id": "dd11c861-b8b0-41e7-b628-1632a4c4c64e",
   "metadata": {},
   "outputs": [
    {
     "data": {
      "text/plain": [
       "[-0.9487906120207671, 0.9487906120207666]"
      ]
     },
     "execution_count": 4,
     "metadata": {},
     "output_type": "execute_result"
    }
   ],
   "source": [
    "calc(-1,5,100,func)"
   ]
  },
  {
   "cell_type": "code",
   "execution_count": null,
   "id": "12eaec5f-689e-44d8-92ef-185f0ce8fb27",
   "metadata": {},
   "outputs": [],
   "source": []
  }
 ],
 "metadata": {
  "kernelspec": {
   "display_name": "Python 3 (ipykernel)",
   "language": "python",
   "name": "python3"
  },
  "language_info": {
   "codemirror_mode": {
    "name": "ipython",
    "version": 3
   },
   "file_extension": ".py",
   "mimetype": "text/x-python",
   "name": "python",
   "nbconvert_exporter": "python",
   "pygments_lexer": "ipython3",
   "version": "3.9.13"
  }
 },
 "nbformat": 4,
 "nbformat_minor": 5
}
