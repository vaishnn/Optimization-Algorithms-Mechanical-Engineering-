{
 "cells": [
  {
   "cell_type": "markdown",
   "id": "40eb9719-389f-4379-bf1a-1eba8c1c6a38",
   "metadata": {
    "tags": []
   },
   "source": [
    "# Exhaustive search method\n",
    "\n",
    "The minimum of a function is found in two phases.\n",
    "Initially an approximate method is used to find a lower\n",
    "and an upper bound of the minimum.\n",
    "The optimum of a function is bracketed by calculating the function  values at a number of equally spaced points\n",
    "#### Step1 \n",
    "set 𝑥_1=𝑎, ∆𝑥=(𝑏−𝑎)/𝑛, (n is the number of intermediate points), and〖 𝑥〗_2=𝑥_1+∆𝑥. 〖 𝑥〗_3=𝑥_2+∆𝑥. \n",
    "#### Step 2 \n",
    "If 𝑖𝑓 𝑓(𝑥_1)≥ 𝑓(𝑥_2)≤𝑓(𝑥_3), the minimum point lies in (𝑥_1,𝑥_3 ) , Terminate; \n",
    "Else 〖𝑥_1=〖 𝑥〗_2,  𝑥〗_2=𝑥_3. 〖 𝑥〗_3=𝑥_2+∆𝑥, and go to  Step 3.\n",
    "#### Step 3 \n",
    "Is 〖 𝑥〗_3≤𝑏 ? If yes, go to Step 2;\n",
    "Else no minimum exists in (a,b) or a boundary point (a or b) is the minimum point."
   ]
  },
  {
   "cell_type": "code",
   "execution_count": 1,
   "id": "c890dadb-93b1-4f77-a52b-645d44188e3e",
   "metadata": {},
   "outputs": [],
   "source": [
    "def func(x):\n",
    "    # Function to be Inputed by the user, Taking an example for demonstration\n",
    "    return x*x + 54/x;"
   ]
  },
  {
   "cell_type": "code",
   "execution_count": 2,
   "id": "4d3e736f-1d3f-432e-87b7-b0b61e67eabc",
   "metadata": {},
   "outputs": [],
   "source": [
    "def calc(a,b,N,func):\n",
    "    # N is user determined, for higher accuracy can be set higher \n",
    "    delta = (b-a)/N;\n",
    "    # Setting x_1, x_2, x_3 as given above \n",
    "    x_1 = a;\n",
    "    x_2 = x_1+delta;\n",
    "    x_3 = x_2+delta;\n",
    "    while x_3<=b:\n",
    "        if (func(x_1) >= func(x_2) and func(x_2) <= func(x_3)):\n",
    "            return [x_1, x_3];\n",
    "        else:\n",
    "            x_1 = x_2;\n",
    "            x_2 = x_3;\n",
    "            x_3 = x_2+delta;\n",
    "    # raising error when minima doesn't lie in that region\n",
    "    return [-999,-999];\n",
    "    "
   ]
  },
  {
   "cell_type": "code",
   "execution_count": 3,
   "id": "e103e802-74c6-4195-81f5-1dbf2d0d82a5",
   "metadata": {},
   "outputs": [],
   "source": [
    "def Input(a,b,N):\n",
    "    try:\n",
    "        [x_1,x_3] = calc(a,b,N,func);\n",
    "        val = 1;\n",
    "        if (x_1 == x_3 and x_1 == -999):\n",
    "            raise Exception;\n",
    "    except Exception:\n",
    "        print('The Minima doesnot lies in the given range');\n",
    "        val = 0;\n",
    "    if val == 1:\n",
    "        print('The Minima lies in range [{0} , {1}]'.format(x_1,x_3));"
   ]
  },
  {
   "cell_type": "code",
   "execution_count": 4,
   "id": "1c87b4a7-3ae5-421a-9226-6a862e543bf8",
   "metadata": {},
   "outputs": [
    {
     "name": "stdout",
     "output_type": "stream",
     "text": [
      "The Minima doesnot lies in the given range\n"
     ]
    }
   ],
   "source": [
    "# These values are to be input by user\n",
    "Input(1,2,100)"
   ]
  },
  {
   "cell_type": "code",
   "execution_count": 5,
   "id": "54a12ed9-157e-40f4-aecf-2bd6210e2dfd",
   "metadata": {},
   "outputs": [
    {
     "name": "stdout",
     "output_type": "stream",
     "text": [
      "The Minima lies in range [2.9960000000000018 , 3.004000000000002]\n"
     ]
    }
   ],
   "source": [
    "Input(1,5,1000)"
   ]
  }
 ],
 "metadata": {
  "kernelspec": {
   "display_name": "Python 3 (ipykernel)",
   "language": "python",
   "name": "python3"
  },
  "language_info": {
   "codemirror_mode": {
    "name": "ipython",
    "version": 3
   },
   "file_extension": ".py",
   "mimetype": "text/x-python",
   "name": "python",
   "nbconvert_exporter": "python",
   "pygments_lexer": "ipython3",
   "version": "3.9.13"
  }
 },
 "nbformat": 4,
 "nbformat_minor": 5
}
