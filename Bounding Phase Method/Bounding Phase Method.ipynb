{
 "cells": [
  {
   "cell_type": "markdown",
   "id": "655eabc5-13cb-430c-87f9-58bdb475563e",
   "metadata": {},
   "source": [
    "# Bounding Phase Method\n",
    "Starts with initial guess and finds a search direction based on two more function values in the vicinity of initial guess\n",
    "#### Step 1 \n",
    "Choose initial guess $x^{(0)}$ 𝑎𝑛𝑑 increment ∆ set $k=0$\n",
    "#### Step 2\n",
    "If \n",
    "\\begin{align*}\n",
    "𝑓(𝑥^{(0)}−∆)≥𝑓(𝑥^{(0)}) ≥ 𝑓(𝑥^{(0)}+∆)\n",
    "\\end{align*}\n",
    ", then ∆ is positive\n",
    "Else If \n",
    "\\begin{align}\n",
    "𝑓(𝑥^{(0)}−∆)≤𝑓(𝑥^{(0)}) ≤ 𝑓(𝑥^{(0)}+∆)\n",
    "\\end{align}\n",
    ",then ∆ is negative, else go to step 1\n",
    "#### Step 3\n",
    "set \n",
    "\\begin{align}\n",
    "𝑥^{(𝑘+1)}= 𝑥^{(𝑘)}+2^𝑘∆\n",
    "\\end{align}\n",
    "#### Step 4 \n",
    "if \n",
    "\\begin{align}\n",
    "𝑓(𝑥^{(𝑘+1)})<𝑓(𝑥^{(𝑘)})\n",
    "\\end{align}\n",
    ",set $𝑘=𝑘+1$ and go to step 3, else the minimum lies in interval \n",
    "$(𝑥^{(𝑘−1)},𝑥^{(𝑘+1)})$ and terminate\n"
   ]
  },
  {
   "cell_type": "code",
   "execution_count": 1,
   "id": "33fbb62d-3e8e-4849-8dca-aff814a19c84",
   "metadata": {},
   "outputs": [],
   "source": [
    "# Importing math library for atan function (tan inverse)\n",
    "import math\n",
    "def func(x):\n",
    "    # Function to be Inputed by the user, Taking an example for demonstration\n",
    "    return 0.65-0.75/(1+x*x)-0.65*x*math.atan(1/x);"
   ]
  },
  {
   "cell_type": "code",
   "execution_count": 2,
   "id": "526f9101-be9f-42d8-98ff-3b51bb6f98d5",
   "metadata": {},
   "outputs": [],
   "source": [
    "# For generating a random guess or initial guess\n",
    "import random\n",
    "import numpy as np\n",
    "def calc(a,b,N,func):\n",
    "    # Initial Guess\n",
    "    x_0 = random.uniform(a,b);\n",
    "    # N can be changed according to the accurarcy needed\n",
    "    delta = (b-a)/N;\n",
    "    # For Choosing correct initial guess \n",
    "    while True:\n",
    "        if (func(x_0 - delta) >= func(x_0) and func(x_0) >= func(x_0+delta)):\n",
    "            delta = +delta;\n",
    "            break;\n",
    "        elif (func(x_0 - delta) <= func(x_0) and func(x_0) <= func(x_0+delta)):\n",
    "            delta = -delta;\n",
    "            break;\n",
    "        else:\n",
    "            x_0 = random.uniform(a,b);\n",
    "    # Creating an array for story values of x\n",
    "    x = np.array([x_0])\n",
    "    for k in range(0,100):\n",
    "        x =np.append(x,max(x[k]+math.pow(2,k)*delta,a+0.001));\n",
    "        val = 0;\n",
    "        if func(x[k+1]) < func(x[k]):\n",
    "            val = 1;\n",
    "            continue;\n",
    "        else:\n",
    "            if val == 1:\n",
    "                if delta > 0:\n",
    "                    return [x[k-1],x[k+1]];\n",
    "                else:\n",
    "                    return [x[k+1],x[k-1]];\n",
    "            else:\n",
    "                if delta > 0:\n",
    "                    return [x[k],x[k+1]];\n",
    "                else:\n",
    "                    return [x[k+1],x[k]];"
   ]
  },
  {
   "cell_type": "code",
   "execution_count": 3,
   "id": "d98f35d9-6aa4-487e-a814-2c58f0a267d4",
   "metadata": {},
   "outputs": [],
   "source": [
    "def Input(a,b,N):\n",
    "    try:\n",
    "        [x_1,x_3] = calc(a,b,N,func);\n",
    "    except Exception:\n",
    "        print('The Minima doesnot lies in the given range');\n",
    "        return;\n",
    "    print('The Minima lies in range [{0} , {1}]'.format(x_1,x_3));"
   ]
  },
  {
   "cell_type": "code",
   "execution_count": 4,
   "id": "a6646902-f9c8-4847-adf0-d84e96c974ac",
   "metadata": {},
   "outputs": [
    {
     "name": "stdout",
     "output_type": "stream",
     "text": [
      "The Minima lies in range [0.001 , 0.41610657739579027]\n"
     ]
    }
   ],
   "source": [
    "Input(0,3,100)"
   ]
  }
 ],
 "metadata": {
  "kernelspec": {
   "display_name": "Python 3 (ipykernel)",
   "language": "python",
   "name": "python3"
  },
  "language_info": {
   "codemirror_mode": {
    "name": "ipython",
    "version": 3
   },
   "file_extension": ".py",
   "mimetype": "text/x-python",
   "name": "python",
   "nbconvert_exporter": "python",
   "pygments_lexer": "ipython3",
   "version": "3.9.13"
  }
 },
 "nbformat": 4,
 "nbformat_minor": 5
}
